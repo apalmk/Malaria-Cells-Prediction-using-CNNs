{
  "nbformat": 4,
  "nbformat_minor": 0,
  "metadata": {
    "colab": {
      "name": "AML5_Task3_final.ipynb",
      "provenance": [],
      "collapsed_sections": []
    },
    "kernelspec": {
      "name": "python3",
      "display_name": "Python 3"
    },
    "accelerator": "GPU"
  },
  "cells": [
    {
      "cell_type": "markdown",
      "metadata": {
        "id": "0nctrM1QSiuz",
        "colab_type": "text"
      },
      "source": [
        "## *Applied Machine Learning*\n",
        "\n",
        "# *Assignment 5*\n",
        "\n",
        "## Task 3"
      ]
    },
    {
      "cell_type": "markdown",
      "metadata": {
        "id": "dAN0eDycSy6E",
        "colab_type": "text"
      },
      "source": [
        "***Teammates:***\n",
        "\n",
        "Karthik Rajaraman Iyer\n",
        "kr2859@columbia.edu\n",
        "\n",
        "Anjani Prasad Atluri\n",
        "aa4462@columbia.edu"
      ]
    },
    {
      "cell_type": "code",
      "metadata": {
        "id": "cwLVzOUc8cUA",
        "colab_type": "code",
        "outputId": "7106336a-59e4-4e9d-c7e5-e0c0ac50c396",
        "colab": {
          "base_uri": "https://localhost:8080/",
          "height": 34
        }
      },
      "source": [
        "#Importing the required library\n",
        "from PIL import Image\n",
        "import glob\n",
        "import keras\n",
        "from numpy import asarray\n",
        "import numpy as np\n",
        "import matplotlib\n",
        "from sklearn.utils import shuffle\n",
        "import matplotlib.pyplot as plt\n",
        "from keras.utils import to_categorical\n",
        "from keras.initializers import glorot_uniform\n",
        "from keras.models import Sequential\n",
        "from matplotlib import pyplot\n",
        "from keras.layers import Conv2D, MaxPooling2D, Flatten, Activation, Dense,Input, add, Add, ZeroPadding2D, BatchNormalization,AveragePooling2D, GlobalMaxPooling2D\n",
        "from keras.preprocessing.image import ImageDataGenerator\n",
        "from sklearn.model_selection import train_test_split\n",
        "from keras.models import Model\n",
        "from keras.models import Model, load_model\n",
        "from keras.preprocessing import image\n",
        "from keras.utils import layer_utils\n",
        "from keras.utils.data_utils import get_file\n",
        "from keras.applications.imagenet_utils import preprocess_input\n",
        "import pydot\n",
        "from IPython.display import SVG\n",
        "from keras.utils.vis_utils import model_to_dot\n",
        "from keras.utils import plot_model\n",
        "from keras.initializers import glorot_uniform\n",
        "import scipy.misc\n",
        "from matplotlib.pyplot import imshow\n",
        "%matplotlib inline\n",
        "\n",
        "import keras.backend as K\n",
        "K.set_image_data_format('channels_last')\n",
        "K.set_learning_phase(1)\n",
        "\n",
        "from  keras.utils import to_categorical"
      ],
      "execution_count": 1,
      "outputs": [
        {
          "output_type": "stream",
          "text": [
            "Using TensorFlow backend.\n"
          ],
          "name": "stderr"
        }
      ]
    },
    {
      "cell_type": "code",
      "metadata": {
        "id": "AhtH2lkbxIPV",
        "colab_type": "code",
        "outputId": "f49b6a2f-5f4d-4e21-e966-b16432609196",
        "colab": {
          "base_uri": "https://localhost:8080/",
          "height": 122
        }
      },
      "source": [
        "#importing required libraries\n",
        "from google.colab import drive\n",
        "\n",
        "#mounting drive\n",
        "drive.mount(\"/content/gdrive\",force_remount=True)"
      ],
      "execution_count": 2,
      "outputs": [
        {
          "output_type": "stream",
          "text": [
            "Go to this URL in a browser: https://accounts.google.com/o/oauth2/auth?client_id=947318989803-6bn6qk8qdgf4n4g3pfee6491hc0brc4i.apps.googleusercontent.com&redirect_uri=urn%3aietf%3awg%3aoauth%3a2.0%3aoob&response_type=code&scope=email%20https%3a%2f%2fwww.googleapis.com%2fauth%2fdocs.test%20https%3a%2f%2fwww.googleapis.com%2fauth%2fdrive%20https%3a%2f%2fwww.googleapis.com%2fauth%2fdrive.photos.readonly%20https%3a%2f%2fwww.googleapis.com%2fauth%2fpeopleapi.readonly\n",
            "\n",
            "Enter your authorization code:\n",
            "··········\n",
            "Mounted at /content/gdrive\n"
          ],
          "name": "stdout"
        }
      ]
    },
    {
      "cell_type": "code",
      "metadata": {
        "id": "HWmOmkKd7VFd",
        "colab_type": "code",
        "colab": {}
      },
      "source": [
        "#import data and extracting it\n",
        "!unzip '/content/gdrive/My Drive/cell_images.zip'"
      ],
      "execution_count": 0,
      "outputs": []
    },
    {
      "cell_type": "markdown",
      "metadata": {
        "id": "6UhAl-EEFzgU",
        "colab_type": "text"
      },
      "source": [
        "The images were read in as smaller resolution (40x40). The reason we used this resolution is because the smallest image in the dataset has the resolution (40x55). We scaled down the images by 255 (value of black in grayscale)."
      ]
    },
    {
      "cell_type": "code",
      "metadata": {
        "id": "fguWrLzM8P2N",
        "colab_type": "code",
        "colab": {}
      },
      "source": [
        "#Reading the images into a list (grayscaled and scaled down by 255)\n",
        "image_list = []\n",
        "target= []\n",
        "\n",
        "for filename in glob.glob('/content/cell_images/Parasitized/*.png'): \n",
        "  #The parameter order is width x height\n",
        "    im=Image.open(filename).convert('L').resize((40,40)) \n",
        "    image_list.append(asarray(np.uint8(im))/255)\n",
        "    target.append(1)\n",
        "\n",
        "for filename in glob.glob('/content/cell_images/Uninfected/*.png'): \n",
        "    im=Image.open(filename).convert('L').resize((40,40)) \n",
        "    image_list.append(asarray(np.uint8(im))/255)\n",
        "    target.append(0)"
      ],
      "execution_count": 0,
      "outputs": []
    },
    {
      "cell_type": "code",
      "metadata": {
        "id": "hE2clHtf6OAZ",
        "colab_type": "code",
        "colab": {}
      },
      "source": [
        "#convert the image list to array\n",
        "d=np.stack( image_list,axis=0 )\n",
        "t=np.asarray(target).reshape(-1,1)\n",
        "\n",
        "#shuffle the dataset (along the first dimension with the target labels)\n",
        "X, y = shuffle(d, t)\n",
        "\n",
        "img_rows=40\n",
        "img_cols=40\n",
        "\n",
        "#Re-shaping the array\n",
        "X_all = X.reshape(X.shape[0], img_rows, img_cols, 1)\n",
        "input_shape = (img_rows, img_cols, 1)\n",
        "\n",
        "#Split into training and test sets\n",
        "X_train, X_test, y_train, y_test = train_test_split(X_all, y, test_size=0.2, random_state=100)\n"
      ],
      "execution_count": 0,
      "outputs": []
    },
    {
      "cell_type": "markdown",
      "metadata": {
        "id": "dPopz2g33si_",
        "colab_type": "text"
      },
      "source": [
        "Seeing if the data is not jumbled while re-shaping"
      ]
    },
    {
      "cell_type": "code",
      "metadata": {
        "id": "5U7MkUKzYayW",
        "colab_type": "code",
        "outputId": "3ffdf11f-91f7-4600-9cfe-96d3052f177f",
        "colab": {
          "base_uri": "https://localhost:8080/",
          "height": 267
        }
      },
      "source": [
        "#Seeing if the data is not lost while re-shaping\n",
        "from matplotlib import pyplot as plt\n",
        "plt.imshow(X_all[45,:,:,0])\n",
        "plt.show()"
      ],
      "execution_count": 52,
      "outputs": [
        {
          "output_type": "display_data",
          "data": {
            "image/png": "[encoded data removed]",
            "text/plain": [
              "<Figure size 432x288 with 1 Axes>"
            ]
          },
          "metadata": {
            "tags": [],
            "needs_background": "light"
          }
        }
      ]
    },
    {
      "cell_type": "markdown",
      "metadata": {
        "id": "MCca6Y7ENX_J",
        "colab_type": "text"
      },
      "source": [
        "We are not transforming the target variable into categorical variable as this is just a binary class classification. Only one binary class variable will be enough."
      ]
    },
    {
      "cell_type": "markdown",
      "metadata": {
        "id": "HukhhYUDoTaQ",
        "colab_type": "text"
      },
      "source": [
        "###Task 3.1​ \n",
        "Start with a convolutional model without residual connections (using batch normalization is likely to be helpful and you should try it, whether you use dropout is your choice)."
      ]
    },
    {
      "cell_type": "code",
      "metadata": {
        "id": "FVuvd4croeSc",
        "colab_type": "code",
        "outputId": "9331c4e3-706e-4f14-b553-3959111b10eb",
        "colab": {
          "base_uri": "https://localhost:8080/",
          "height": 748
        }
      },
      "source": [
        "cnn = Sequential()\n",
        "cnn.add(Conv2D(32, kernel_size=(3, 3),\n",
        "                 activation='relu',\n",
        "                 input_shape=input_shape))\n",
        "cnn.add(BatchNormalization())\n",
        "cnn.add(MaxPooling2D(pool_size=(2, 2)))\n",
        "cnn.add(Conv2D(32, (3, 3), activation='relu'))\n",
        "cnn.add(BatchNormalization())\n",
        "cnn.add(MaxPooling2D(pool_size=(2, 2)))\n",
        "cnn.add(Conv2D(32, (3, 3), activation='relu'))\n",
        "cnn.add(BatchNormalization())\n",
        "cnn.add(MaxPooling2D(pool_size=(2, 2)))\n",
        "cnn.add(Flatten())\n",
        "cnn.add(Dense(64, activation='relu'))\n",
        "cnn.add(Dense(1, activation='sigmoid'))\n",
        "cnn.compile(\"adam\", \"binary_crossentropy\", metrics=['accuracy'])\n",
        "history_cnn = cnn.fit(X_train, y_train,batch_size=256, epochs=20, verbose=1, validation_split=.2)\n",
        "cnn.evaluate(X_test, y_test)"
      ],
      "execution_count": 46,
      "outputs": [
        {
          "output_type": "stream",
          "text": [
            "Train on 17636 samples, validate on 4410 samples\n",
            "Epoch 1/20\n",
            "17636/17636 [==============================] - 2s 120us/step - loss: 0.4516 - accuracy: 0.7811 - val_loss: 0.6805 - val_accuracy: 0.5639\n",
            "Epoch 2/20\n",
            "17636/17636 [==============================] - 1s 80us/step - loss: 0.2553 - accuracy: 0.8898 - val_loss: 0.6749 - val_accuracy: 0.5497\n",
            "Epoch 3/20\n",
            "17636/17636 [==============================] - 1s 81us/step - loss: 0.1755 - accuracy: 0.9315 - val_loss: 0.6427 - val_accuracy: 0.6626\n",
            "Epoch 4/20\n",
            "17636/17636 [==============================] - 1s 81us/step - loss: 0.1477 - accuracy: 0.9441 - val_loss: 0.6601 - val_accuracy: 0.5683\n",
            "Epoch 5/20\n",
            "17636/17636 [==============================] - 1s 81us/step - loss: 0.1275 - accuracy: 0.9521 - val_loss: 0.8129 - val_accuracy: 0.5277\n",
            "Epoch 6/20\n",
            "17636/17636 [==============================] - 1s 79us/step - loss: 0.1191 - accuracy: 0.9564 - val_loss: 0.6139 - val_accuracy: 0.6855\n",
            "Epoch 7/20\n",
            "17636/17636 [==============================] - 1s 81us/step - loss: 0.1107 - accuracy: 0.9591 - val_loss: 0.4883 - val_accuracy: 0.7707\n",
            "Epoch 8/20\n",
            "17636/17636 [==============================] - 1s 80us/step - loss: 0.0990 - accuracy: 0.9635 - val_loss: 0.3494 - val_accuracy: 0.8481\n",
            "Epoch 9/20\n",
            "17636/17636 [==============================] - 1s 80us/step - loss: 0.0891 - accuracy: 0.9685 - val_loss: 0.2740 - val_accuracy: 0.8916\n",
            "Epoch 10/20\n",
            "17636/17636 [==============================] - 1s 81us/step - loss: 0.0781 - accuracy: 0.9732 - val_loss: 0.2196 - val_accuracy: 0.9163\n",
            "Epoch 11/20\n",
            "17636/17636 [==============================] - 1s 81us/step - loss: 0.0733 - accuracy: 0.9739 - val_loss: 0.2534 - val_accuracy: 0.9043\n",
            "Epoch 12/20\n",
            "17636/17636 [==============================] - 1s 82us/step - loss: 0.0646 - accuracy: 0.9769 - val_loss: 0.2075 - val_accuracy: 0.9218\n",
            "Epoch 13/20\n",
            "17636/17636 [==============================] - 1s 81us/step - loss: 0.0596 - accuracy: 0.9786 - val_loss: 0.3308 - val_accuracy: 0.9029\n",
            "Epoch 14/20\n",
            "17636/17636 [==============================] - 1s 80us/step - loss: 0.0525 - accuracy: 0.9820 - val_loss: 0.1968 - val_accuracy: 0.9322\n",
            "Epoch 15/20\n",
            "17636/17636 [==============================] - 1s 81us/step - loss: 0.0396 - accuracy: 0.9878 - val_loss: 0.7266 - val_accuracy: 0.7354\n",
            "Epoch 16/20\n",
            "17636/17636 [==============================] - 1s 81us/step - loss: 0.0418 - accuracy: 0.9862 - val_loss: 0.6745 - val_accuracy: 0.7512\n",
            "Epoch 17/20\n",
            "17636/17636 [==============================] - 1s 81us/step - loss: 0.0362 - accuracy: 0.9884 - val_loss: 3.5009 - val_accuracy: 0.5179\n",
            "Epoch 18/20\n",
            "17636/17636 [==============================] - 1s 81us/step - loss: 0.0410 - accuracy: 0.9858 - val_loss: 0.1924 - val_accuracy: 0.9429\n",
            "Epoch 19/20\n",
            "17636/17636 [==============================] - 1s 81us/step - loss: 0.0268 - accuracy: 0.9918 - val_loss: 0.2746 - val_accuracy: 0.9247\n",
            "Epoch 20/20\n",
            "17636/17636 [==============================] - 1s 81us/step - loss: 0.0209 - accuracy: 0.9937 - val_loss: 0.2487 - val_accuracy: 0.9361\n",
            "5512/5512 [==============================] - 0s 87us/step\n"
          ],
          "name": "stdout"
        },
        {
          "output_type": "execute_result",
          "data": {
            "text/plain": [
              "[0.267684856897047, 0.9363207817077637]"
            ]
          },
          "metadata": {
            "tags": []
          },
          "execution_count": 46
        }
      ]
    },
    {
      "cell_type": "markdown",
      "metadata": {
        "id": "s_6uKe-b2lEI",
        "colab_type": "text"
      },
      "source": [
        "The accuracy on the test set it 93.63%. Having batch normalization improved the accuracy."
      ]
    },
    {
      "cell_type": "markdown",
      "metadata": {
        "id": "Vx97SCZ7wYo8",
        "colab_type": "text"
      },
      "source": [
        "### Task 3.2 ​\n",
        "Augment the data using rotations, mirroring and possibly other transformations. How much can you improve your original model by data augmentation?"
      ]
    },
    {
      "cell_type": "code",
      "metadata": {
        "id": "A2-dm2rKunQL",
        "colab_type": "code",
        "colab": {
          "base_uri": "https://localhost:8080/",
          "height": 731
        },
        "outputId": "bfac3571-93cf-441e-e1ad-c536dcc0209e"
      },
      "source": [
        "from keras import backend as K \n",
        "import gc\n",
        "\n",
        "K.clear_session()\n",
        "gc.collect()\n",
        "\n",
        "datagen = ImageDataGenerator(\n",
        "    rotation_range=20,\n",
        "    width_shift_range=0.2,\n",
        "    height_shift_range=0.2)\n",
        "\n",
        "#splittng the data into train and validation set\n",
        "X_train_fin, X_val, y_train_fin, y_val = train_test_split(X_train, y_train, test_size=0.2, random_state=1234)\n",
        "\n",
        "datagen.fit(X_train_fin)\n",
        "\n",
        "history_cnn1 = cnn.fit_generator(datagen.flow(X_train_fin, y_train_fin, batch_size=32),steps_per_epoch=len(X_train_fin) / 32, epochs=20)\n",
        "cnn.evaluate(X_test, y_test)"
      ],
      "execution_count": 48,
      "outputs": [
        {
          "output_type": "stream",
          "text": [
            "Epoch 1/20\n",
            "552/551 [==============================] - 8s 15ms/step - loss: 0.1987 - accuracy: 0.9223\n",
            "Epoch 2/20\n",
            "552/551 [==============================] - 8s 15ms/step - loss: 0.1887 - accuracy: 0.9253\n",
            "Epoch 3/20\n",
            "552/551 [==============================] - 8s 15ms/step - loss: 0.1932 - accuracy: 0.9252\n",
            "Epoch 4/20\n",
            "552/551 [==============================] - 8s 15ms/step - loss: 0.1944 - accuracy: 0.9241\n",
            "Epoch 5/20\n",
            "552/551 [==============================] - 8s 15ms/step - loss: 0.1861 - accuracy: 0.9276\n",
            "Epoch 6/20\n",
            "552/551 [==============================] - 8s 15ms/step - loss: 0.1901 - accuracy: 0.9261\n",
            "Epoch 7/20\n",
            "552/551 [==============================] - 8s 15ms/step - loss: 0.1869 - accuracy: 0.9271\n",
            "Epoch 8/20\n",
            "552/551 [==============================] - 8s 15ms/step - loss: 0.1939 - accuracy: 0.9247\n",
            "Epoch 9/20\n",
            "552/551 [==============================] - 8s 15ms/step - loss: 0.1814 - accuracy: 0.9297\n",
            "Epoch 10/20\n",
            "552/551 [==============================] - 8s 15ms/step - loss: 0.1832 - accuracy: 0.9290\n",
            "Epoch 11/20\n",
            "552/551 [==============================] - 8s 15ms/step - loss: 0.1931 - accuracy: 0.9245\n",
            "Epoch 12/20\n",
            "552/551 [==============================] - 8s 15ms/step - loss: 0.1895 - accuracy: 0.9266\n",
            "Epoch 13/20\n",
            "552/551 [==============================] - 8s 15ms/step - loss: 0.1877 - accuracy: 0.9276\n",
            "Epoch 14/20\n",
            "552/551 [==============================] - 8s 15ms/step - loss: 0.1880 - accuracy: 0.9276\n",
            "Epoch 15/20\n",
            "552/551 [==============================] - 8s 15ms/step - loss: 0.1876 - accuracy: 0.9273\n",
            "Epoch 16/20\n",
            "552/551 [==============================] - 8s 15ms/step - loss: 0.1823 - accuracy: 0.9283\n",
            "Epoch 17/20\n",
            "552/551 [==============================] - 8s 15ms/step - loss: 0.1842 - accuracy: 0.9296\n",
            "Epoch 18/20\n",
            "552/551 [==============================] - 8s 15ms/step - loss: 0.1751 - accuracy: 0.9318\n",
            "Epoch 19/20\n",
            "552/551 [==============================] - 8s 15ms/step - loss: 0.1811 - accuracy: 0.9302\n",
            "Epoch 20/20\n",
            "552/551 [==============================] - 8s 15ms/step - loss: 0.1816 - accuracy: 0.9286\n",
            "5512/5512 [==============================] - 1s 91us/step\n"
          ],
          "name": "stdout"
        },
        {
          "output_type": "execute_result",
          "data": {
            "text/plain": [
              "[0.15559678318733228, 0.944847583770752]"
            ]
          },
          "metadata": {
            "tags": []
          },
          "execution_count": 48
        }
      ]
    },
    {
      "cell_type": "markdown",
      "metadata": {
        "id": "5ReWa-l1GGJq",
        "colab_type": "text"
      },
      "source": [
        "We can see that the loss nearly halved and the accuracy increased after using the augmentation technique. This might be because the cells in the images are in different orientations (rotations, width and height shifts). We haven't used feature_wise_normalization as we have already scaled the data down to 255th of its original size."
      ]
    },
    {
      "cell_type": "markdown",
      "metadata": {
        "id": "9-MN38NDGtU8",
        "colab_type": "text"
      },
      "source": [
        "### Task 3.3​ \n",
        "\n",
        "Build a deeper model using residual connections. Show that you can build a deep model that would not be able to learn if you remove the residual connections (i.e. compare a deep model with and without residual connections while the rest of the architecture is constant). Feel free to reuse existing architectures from the literature or use them as inspiration for your own. You can find commonly used architectures here:\n",
        "https://keras.io/applications/\n",
        "However, the point of the exercise is to learn the weights from scratch, so please do not reuse the weights shipped with these applications."
      ]
    },
    {
      "cell_type": "markdown",
      "metadata": {
        "id": "KAHA7KD49uxc",
        "colab_type": "text"
      },
      "source": [
        "Let us use resnet50 architecture for this part. First we will remove the skip connections from it and show that the model doesn't learn anything.\n",
        "\n",
        "The code for resnet was taken from https://datascience-enthusiast.com/DL/Residual_Networks_v2.html"
      ]
    },
    {
      "cell_type": "code",
      "metadata": {
        "id": "zVSbdzSdgfT0",
        "colab_type": "code",
        "outputId": "e08fa3e3-b094-4b71-96d7-5482f9407c13",
        "colab": {
          "base_uri": "https://localhost:8080/",
          "height": 102
        }
      },
      "source": [
        "!git clone 'https://github.com/marcopeix/Deep_Learning_AI.git'"
      ],
      "execution_count": 12,
      "outputs": [
        {
          "output_type": "stream",
          "text": [
            "Cloning into 'Deep_Learning_AI'...\n",
            "remote: Enumerating objects: 311, done.\u001b[K\n",
            "remote: Total 311 (delta 0), reused 0 (delta 0), pack-reused 311\n",
            "Receiving objects: 100% (311/311), 42.05 MiB | 32.84 MiB/s, done.\n",
            "Resolving deltas: 100% (135/135), done.\n"
          ],
          "name": "stdout"
        }
      ]
    },
    {
      "cell_type": "code",
      "metadata": {
        "id": "EesbPqS0ijvV",
        "colab_type": "code",
        "outputId": "463665d9-28ca-40be-a9a7-1e67943a91fa",
        "colab": {
          "base_uri": "https://localhost:8080/",
          "height": 34
        }
      },
      "source": [
        "cd Deep_Learning_AI/'4.Convolutional Neural Networks'/'2.Deep Convolutional Models'"
      ],
      "execution_count": 13,
      "outputs": [
        {
          "output_type": "stream",
          "text": [
            "/content/Deep_Learning_AI/4.Convolutional Neural Networks/2.Deep Convolutional Models\n"
          ],
          "name": "stdout"
        }
      ]
    },
    {
      "cell_type": "code",
      "metadata": {
        "id": "qOSxcT9piqCe",
        "colab_type": "code",
        "colab": {}
      },
      "source": [
        "from resnets_utils import *"
      ],
      "execution_count": 0,
      "outputs": []
    },
    {
      "cell_type": "code",
      "metadata": {
        "id": "O7IauzQc-EgU",
        "colab_type": "code",
        "colab": {}
      },
      "source": [
        "#Defining the identity block of resnet without the skip connections\n",
        "\n",
        "def identity_block(X, f, filters, stage, block):\n",
        "    \n",
        "    # Defining name basis\n",
        "    conv_name_base = 'res' + str(stage) + block + '_branch'\n",
        "    bn_name_base = 'bn' + str(stage) + block + '_branch'\n",
        "    \n",
        "    # Retrieve Filters\n",
        "    F1, F2, F3 = filters\n",
        "    \n",
        "    # First component of main path\n",
        "    X = Conv2D(filters = F1, kernel_size = (1, 1), strides = (1,1), padding = 'valid', name = conv_name_base + '2a', kernel_initializer = glorot_uniform(seed=0))(X)\n",
        "    X = BatchNormalization(axis = 3, name = bn_name_base + '2a')(X)\n",
        "    X = Activation('relu')(X)\n",
        "    \n",
        "    # Second component of main path\n",
        "    X = Conv2D(filters = F2, kernel_size = (f, f), strides = (1, 1), padding = 'same', name = conv_name_base + '2b', kernel_initializer = glorot_uniform(seed=0))(X)\n",
        "    X = BatchNormalization(axis = 3, name = bn_name_base + '2b')(X)\n",
        "    X = Activation('relu')(X)\n",
        "\n",
        "    # Third component of main path \n",
        "    X = Conv2D(filters = F3, kernel_size = (1, 1), strides = (1, 1), padding = 'valid', name = conv_name_base + '2c', kernel_initializer = glorot_uniform(seed=0))(X)\n",
        "    X = BatchNormalization(axis = 3, name = bn_name_base + '2c')(X)\n",
        "    \n",
        "    return X"
      ],
      "execution_count": 0,
      "outputs": []
    },
    {
      "cell_type": "code",
      "metadata": {
        "id": "SEWUD0fL-RCU",
        "colab_type": "code",
        "colab": {}
      },
      "source": [
        "#Defining the convolution block without the skip connections\n",
        "\n",
        "def convolutional_block(X, f, filters, stage, block, s=2):\n",
        "\n",
        "    # Defining name basis\n",
        "    conv_name_base = 'res' + str(stage) + block + '_branch'\n",
        "    bn_name_base = 'bn' + str(stage) + block + '_branch'\n",
        "\n",
        "    # Retrieve Filters\n",
        "    F1, F2, F3 = filters\n",
        "\n",
        "    ##### MAIN PATH #####\n",
        "    # First component of main path \n",
        "    X = Conv2D(filters=F1, kernel_size=(1, 1), strides=(s, s), padding='valid', name=conv_name_base + '2a', kernel_initializer=glorot_uniform(seed=0))(X)\n",
        "    X = BatchNormalization(axis=3, name=bn_name_base + '2a')(X)\n",
        "    X = Activation('relu')(X)\n",
        "\n",
        "    # Second component of main path\n",
        "    X = Conv2D(filters=F2, kernel_size=(f, f), strides=(1, 1), padding='same', name=conv_name_base + '2b', kernel_initializer=glorot_uniform(seed=0))(X)\n",
        "    X = BatchNormalization(axis=3, name=bn_name_base + '2b')(X)\n",
        "    X = Activation('relu')(X)\n",
        "\n",
        "    # Third component of main path\n",
        "    X = Conv2D(filters=F3, kernel_size=(1, 1), strides=(1, 1), padding='valid', name=conv_name_base + '2c', kernel_initializer=glorot_uniform(seed=0))(X)\n",
        "    X = BatchNormalization(axis=3, name=bn_name_base + '2c')(X)\n",
        "\n",
        "    return X\n"
      ],
      "execution_count": 0,
      "outputs": []
    },
    {
      "cell_type": "code",
      "metadata": {
        "id": "193qP-dVJn5F",
        "colab_type": "code",
        "colab": {}
      },
      "source": [
        "#creating ResNet-50\n",
        "\n",
        "def ResNet50(input_shape = (40, 40, 1)):\n",
        "    \n",
        "    # Define the input as a tensor with shape input_shape\n",
        "    X_input = Input(input_shape)\n",
        "\n",
        "    \n",
        "    # Zero-Padding\n",
        "    X = ZeroPadding2D((3, 3))(X_input)\n",
        "    \n",
        "    # Stage 1\n",
        "    X = Conv2D(64, (7, 7), strides = (2, 2), name = 'conv1', kernel_initializer = glorot_uniform(seed=0))(X)\n",
        "    X = BatchNormalization(axis = 3, name = 'bn_conv1')(X)\n",
        "    X = Activation('relu')(X)\n",
        "    X = MaxPooling2D((3, 3), strides=(2, 2))(X)\n",
        "\n",
        "    # Stage 2\n",
        "    X = convolutional_block(X, f = 3, filters = [64, 64, 256], stage = 2, block='a', s = 1)\n",
        "    X = identity_block(X, 3, [64, 64, 256], stage=2, block='b')\n",
        "    X = identity_block(X, 3, [64, 64, 256], stage=2, block='c')\n",
        "\n",
        "    # Stage 3\n",
        "    X = convolutional_block(X, f=3, filters=[128, 128, 512], stage=3, block='a', s=2)\n",
        "    X = identity_block(X, 3, [128, 128, 512], stage=3, block='b')\n",
        "    X = identity_block(X, 3, [128, 128, 512], stage=3, block='c')\n",
        "    X = identity_block(X, 3, [128, 128, 512], stage=3, block='d')\n",
        "\n",
        "    # Stage 4\n",
        "    X = convolutional_block(X, f=3, filters=[256, 256, 1024], stage=4, block='a', s=2)\n",
        "    X = identity_block(X, 3, [256, 256, 1024], stage=4, block='b')\n",
        "    X = identity_block(X, 3, [256, 256, 1024], stage=4, block='c')\n",
        "    X = identity_block(X, 3, [256, 256, 1024], stage=4, block='d')\n",
        "    X = identity_block(X, 3, [256, 256, 1024], stage=4, block='e')\n",
        "    X = identity_block(X, 3, [256, 256, 1024], stage=4, block='f')\n",
        "\n",
        "    # Stage 5\n",
        "    X = convolutional_block(X, f=3, filters=[512, 512, 2048], stage=5, block='a', s=2)\n",
        "    X = identity_block(X, 3, [512, 512, 2048], stage=5, block='b')\n",
        "    X = identity_block(X, 3, [512, 512, 2048], stage=5, block='c')\n",
        "\n",
        "    # AVGPOOL\n",
        "    X = AveragePooling2D(pool_size=(2,2), padding='same')(X)\n",
        "\n",
        "    # Output layer\n",
        "    X = Flatten()(X)\n",
        "    X = Dense(1, activation='sigmoid', name='fca' + str(1), kernel_initializer = glorot_uniform(seed=0))(X)\n",
        "    \n",
        "    \n",
        "    # Create model\n",
        "    model = Model(inputs = X_input, outputs = X, name='ResNet50')\n",
        "\n",
        "    return model"
      ],
      "execution_count": 0,
      "outputs": []
    },
    {
      "cell_type": "code",
      "metadata": {
        "id": "hxKOFG1qAAh8",
        "colab_type": "code",
        "outputId": "b199f42c-1b70-4638-85b5-0aeb0c513841",
        "colab": {
          "base_uri": "https://localhost:8080/",
          "height": 748
        }
      },
      "source": [
        "#Training the architecture on our data\n",
        "from keras import backend as K \n",
        "import gc\n",
        "\n",
        "K.clear_session()\n",
        "gc.collect()\n",
        "\n",
        "model = ResNet50(input_shape = input_shape)\n",
        "model.compile(optimizer='adam', loss='binary_crossentropy', metrics=['accuracy'])\n",
        "history_cnn2 = model.fit(X_train, y_train,batch_size=256, epochs=20, verbose=1, validation_split=0.2)\n",
        "model.evaluate(X_test, y_test)"
      ],
      "execution_count": 0,
      "outputs": [
        {
          "output_type": "stream",
          "text": [
            "Train on 17636 samples, validate on 4410 samples\n",
            "Epoch 1/20\n",
            "17636/17636 [==============================] - 38s 2ms/step - loss: 0.6775 - accuracy: 0.7178 - val_loss: 1.4503 - val_accuracy: 0.5075\n",
            "Epoch 2/20\n",
            "17636/17636 [==============================] - 20s 1ms/step - loss: 0.2921 - accuracy: 0.8732 - val_loss: 1.3764 - val_accuracy: 0.5075\n",
            "Epoch 3/20\n",
            "17636/17636 [==============================] - 19s 1ms/step - loss: 0.2016 - accuracy: 0.9205 - val_loss: 2.4304 - val_accuracy: 0.5075\n",
            "Epoch 4/20\n",
            "17636/17636 [==============================] - 20s 1ms/step - loss: 0.1828 - accuracy: 0.9304 - val_loss: 0.7834 - val_accuracy: 0.5075\n",
            "Epoch 5/20\n",
            "17636/17636 [==============================] - 20s 1ms/step - loss: 0.1556 - accuracy: 0.9402 - val_loss: 2.3212 - val_accuracy: 0.5075\n",
            "Epoch 6/20\n",
            "17636/17636 [==============================] - 20s 1ms/step - loss: 0.1237 - accuracy: 0.9534 - val_loss: 1.9552 - val_accuracy: 0.5075\n",
            "Epoch 7/20\n",
            "17636/17636 [==============================] - 20s 1ms/step - loss: 0.1052 - accuracy: 0.9599 - val_loss: 1.5814 - val_accuracy: 0.5177\n",
            "Epoch 8/20\n",
            "17636/17636 [==============================] - 20s 1ms/step - loss: 0.1026 - accuracy: 0.9608 - val_loss: 3.3748 - val_accuracy: 0.5150\n",
            "Epoch 9/20\n",
            "17636/17636 [==============================] - 20s 1ms/step - loss: 0.0941 - accuracy: 0.9652 - val_loss: 0.5362 - val_accuracy: 0.8179\n",
            "Epoch 10/20\n",
            "17636/17636 [==============================] - 20s 1ms/step - loss: 0.0798 - accuracy: 0.9706 - val_loss: 1.0575 - val_accuracy: 0.6939\n",
            "Epoch 11/20\n",
            "17636/17636 [==============================] - 20s 1ms/step - loss: 0.0660 - accuracy: 0.9758 - val_loss: 0.6513 - val_accuracy: 0.7986\n",
            "Epoch 12/20\n",
            "17636/17636 [==============================] - 20s 1ms/step - loss: 0.0659 - accuracy: 0.9747 - val_loss: 8.2811 - val_accuracy: 0.5077\n",
            "Epoch 13/20\n",
            "17636/17636 [==============================] - 20s 1ms/step - loss: 0.0644 - accuracy: 0.9766 - val_loss: 0.4816 - val_accuracy: 0.8893\n",
            "Epoch 14/20\n",
            "17636/17636 [==============================] - 20s 1ms/step - loss: 0.0470 - accuracy: 0.9823 - val_loss: 0.7931 - val_accuracy: 0.8596\n",
            "Epoch 15/20\n",
            "17636/17636 [==============================] - 20s 1ms/step - loss: 0.0580 - accuracy: 0.9789 - val_loss: 0.3980 - val_accuracy: 0.8782\n",
            "Epoch 16/20\n",
            "17636/17636 [==============================] - 20s 1ms/step - loss: 0.0480 - accuracy: 0.9827 - val_loss: 4.0508 - val_accuracy: 0.5717\n",
            "Epoch 17/20\n",
            "17636/17636 [==============================] - 20s 1ms/step - loss: 0.0559 - accuracy: 0.9803 - val_loss: 0.9355 - val_accuracy: 0.7229\n",
            "Epoch 18/20\n",
            "17636/17636 [==============================] - 20s 1ms/step - loss: 0.0473 - accuracy: 0.9840 - val_loss: 13.3048 - val_accuracy: 0.5079\n",
            "Epoch 19/20\n",
            "17636/17636 [==============================] - 20s 1ms/step - loss: 0.0341 - accuracy: 0.9878 - val_loss: 0.7505 - val_accuracy: 0.8270\n",
            "Epoch 20/20\n",
            "17636/17636 [==============================] - 20s 1ms/step - loss: 0.0393 - accuracy: 0.9858 - val_loss: 15.1625 - val_accuracy: 0.5075\n",
            "5512/5512 [==============================] - 3s 554us/step\n"
          ],
          "name": "stdout"
        },
        {
          "output_type": "execute_result",
          "data": {
            "text/plain": [
              "[15.783321013817421, 0.49111029505729675]"
            ]
          },
          "metadata": {
            "tags": []
          },
          "execution_count": 23
        }
      ]
    },
    {
      "cell_type": "markdown",
      "metadata": {
        "id": "PNwMfv_iY96E",
        "colab_type": "text"
      },
      "source": [
        "We can see that the loss of the model is high, and the test accuracy is low, and the validation accuracy is fluctuating without the skip connections.Let us try adding the skip connections. "
      ]
    },
    {
      "cell_type": "markdown",
      "metadata": {
        "id": "u_ZtjVmb4KGd",
        "colab_type": "text"
      },
      "source": [
        "### Adding Residual connections"
      ]
    },
    {
      "cell_type": "code",
      "metadata": {
        "id": "kFhejMJ6P1V9",
        "colab_type": "code",
        "colab": {}
      },
      "source": [
        "del identity_block\n",
        "del convolutional_block"
      ],
      "execution_count": 0,
      "outputs": []
    },
    {
      "cell_type": "code",
      "metadata": {
        "id": "f6zNBBClbKz6",
        "colab_type": "code",
        "colab": {}
      },
      "source": [
        "#Adding the skip connection in the identity block\n",
        "def identity_block(X, f, filters, stage, block):\n",
        "    \n",
        "    # Defining name basis\n",
        "    conv_name_base = 'res' + str(stage) + block + '_branch'\n",
        "    bn_name_base = 'bn' + str(stage) + block + '_branch'\n",
        "    \n",
        "    # Retrieve Filters\n",
        "    F1, F2, F3 = filters\n",
        "    \n",
        "    # Save the input value\n",
        "    X_shortcut = X\n",
        "    \n",
        "    # First component of main path\n",
        "    X = Conv2D(filters = F1, kernel_size = (1, 1), strides = (1,1), padding = 'valid', name = conv_name_base + '2a', kernel_initializer = glorot_uniform(seed=0))(X)\n",
        "    X = BatchNormalization(axis = 3, name = bn_name_base + '2a')(X)\n",
        "    X = Activation('relu')(X)\n",
        "    \n",
        "    # Second component of main path\n",
        "    X = Conv2D(filters = F2, kernel_size = (f, f), strides = (1, 1), padding = 'same', name = conv_name_base + '2b', kernel_initializer = glorot_uniform(seed=0))(X)\n",
        "    X = BatchNormalization(axis = 3, name = bn_name_base + '2b')(X)\n",
        "    X = Activation('relu')(X)\n",
        "\n",
        "    # Third component of main path \n",
        "    X = Conv2D(filters = F3, kernel_size = (1, 1), strides = (1, 1), padding = 'valid', name = conv_name_base + '2c', kernel_initializer = glorot_uniform(seed=0))(X)\n",
        "    X = BatchNormalization(axis = 3, name = bn_name_base + '2c')(X)\n",
        "\n",
        "    # Final step: Add shortcut value to main path, and pass it through a RELU activation\n",
        "    X = Add()([X, X_shortcut])\n",
        "    X = Activation('relu')(X)\n",
        "    \n",
        "    return X"
      ],
      "execution_count": 0,
      "outputs": []
    },
    {
      "cell_type": "code",
      "metadata": {
        "id": "UIacmC4O2ZXF",
        "colab_type": "code",
        "colab": {}
      },
      "source": [
        "#Adding skip connection in the Convolutional Block\n",
        "def convolutional_block(X, f, filters, stage, block, s=2):\n",
        "\n",
        "    # Defining name basis\n",
        "    conv_name_base = 'res' + str(stage) + block + '_branch'\n",
        "    bn_name_base = 'bn' + str(stage) + block + '_branch'\n",
        "\n",
        "    # Retrieve Filters\n",
        "    F1, F2, F3 = filters\n",
        "\n",
        "    # Save the input value\n",
        "    X_shortcut = X\n",
        "\n",
        "    ##### MAIN PATH #####\n",
        "    # First component of main path \n",
        "    X = Conv2D(filters=F1, kernel_size=(1, 1), strides=(s, s), padding='valid', name=conv_name_base + '2a', kernel_initializer=glorot_uniform(seed=0))(X)\n",
        "    X = BatchNormalization(axis=3, name=bn_name_base + '2a')(X)\n",
        "    X = Activation('relu')(X)\n",
        "\n",
        "    # Second component of main path\n",
        "    X = Conv2D(filters=F2, kernel_size=(f, f), strides=(1, 1), padding='same', name=conv_name_base + '2b', kernel_initializer=glorot_uniform(seed=0))(X)\n",
        "    X = BatchNormalization(axis=3, name=bn_name_base + '2b')(X)\n",
        "    X = Activation('relu')(X)\n",
        "\n",
        "    # Third component of main path\n",
        "    X = Conv2D(filters=F3, kernel_size=(1, 1), strides=(1, 1), padding='valid', name=conv_name_base + '2c', kernel_initializer=glorot_uniform(seed=0))(X)\n",
        "    X = BatchNormalization(axis=3, name=bn_name_base + '2c')(X)\n",
        "\n",
        "    ##### SHORTCUT PATH #### \n",
        "    X_shortcut = Conv2D(filters=F3, kernel_size=(1, 1), strides=(s, s), padding='valid', name=conv_name_base + '1', kernel_initializer=glorot_uniform(seed=0))(X_shortcut)\n",
        "    X_shortcut = BatchNormalization(axis=3, name=bn_name_base + '1')(X_shortcut)\n",
        "\n",
        "    # Final step: Add shortcut value to main path, and pass it through a RELU activation\n",
        "    X = Add()([X, X_shortcut])\n",
        "    X = Activation('relu')(X)\n",
        "\n",
        "    return X"
      ],
      "execution_count": 0,
      "outputs": []
    },
    {
      "cell_type": "code",
      "metadata": {
        "id": "MyZILQzu2sKA",
        "colab_type": "code",
        "outputId": "a2485c64-d9c2-45b7-de19-5acadfe71676",
        "colab": {
          "base_uri": "https://localhost:8080/",
          "height": 731
        }
      },
      "source": [
        "#Training the architecture on our data\n",
        "\n",
        "model = ResNet50(input_shape = input_shape)\n",
        "model.compile(optimizer='adam', loss='binary_crossentropy', metrics=['accuracy'])\n",
        "history_cnn3 = model.fit(X_train, y_train,batch_size=256, epochs=20, verbose=1)\n",
        "model.evaluate(X_test, y_test)"
      ],
      "execution_count": 0,
      "outputs": [
        {
          "output_type": "stream",
          "text": [
            "Epoch 1/20\n",
            "22046/22046 [==============================] - 35s 2ms/step - loss: 0.6352 - accuracy: 0.7547\n",
            "Epoch 2/20\n",
            "22046/22046 [==============================] - 24s 1ms/step - loss: 0.3554 - accuracy: 0.8616\n",
            "Epoch 3/20\n",
            "22046/22046 [==============================] - 23s 1ms/step - loss: 0.2361 - accuracy: 0.9101\n",
            "Epoch 4/20\n",
            "22046/22046 [==============================] - 23s 1ms/step - loss: 0.1803 - accuracy: 0.9293\n",
            "Epoch 5/20\n",
            "22046/22046 [==============================] - 23s 1ms/step - loss: 0.1446 - accuracy: 0.9445\n",
            "Epoch 6/20\n",
            "22046/22046 [==============================] - 23s 1ms/step - loss: 0.1253 - accuracy: 0.9499\n",
            "Epoch 7/20\n",
            "22046/22046 [==============================] - 23s 1ms/step - loss: 0.1157 - accuracy: 0.9541\n",
            "Epoch 8/20\n",
            "22046/22046 [==============================] - 23s 1ms/step - loss: 0.1073 - accuracy: 0.9586\n",
            "Epoch 9/20\n",
            "22046/22046 [==============================] - 23s 1ms/step - loss: 0.1011 - accuracy: 0.9607\n",
            "Epoch 10/20\n",
            "22046/22046 [==============================] - 23s 1ms/step - loss: 0.0853 - accuracy: 0.9666\n",
            "Epoch 11/20\n",
            "22046/22046 [==============================] - 23s 1ms/step - loss: 0.0715 - accuracy: 0.9725\n",
            "Epoch 12/20\n",
            "22046/22046 [==============================] - 23s 1ms/step - loss: 0.0829 - accuracy: 0.9697\n",
            "Epoch 13/20\n",
            "22046/22046 [==============================] - 23s 1ms/step - loss: 0.0882 - accuracy: 0.9661\n",
            "Epoch 14/20\n",
            "22046/22046 [==============================] - 23s 1ms/step - loss: 0.0610 - accuracy: 0.9769\n",
            "Epoch 15/20\n",
            "22046/22046 [==============================] - 23s 1ms/step - loss: 0.0552 - accuracy: 0.9798\n",
            "Epoch 16/20\n",
            "22046/22046 [==============================] - 23s 1ms/step - loss: 0.0721 - accuracy: 0.9727\n",
            "Epoch 17/20\n",
            "22046/22046 [==============================] - 23s 1ms/step - loss: 0.0530 - accuracy: 0.9801\n",
            "Epoch 18/20\n",
            "22046/22046 [==============================] - 23s 1ms/step - loss: 0.0488 - accuracy: 0.9822\n",
            "Epoch 19/20\n",
            "22046/22046 [==============================] - 23s 1ms/step - loss: 0.0475 - accuracy: 0.9835\n",
            "Epoch 20/20\n",
            "22046/22046 [==============================] - 23s 1ms/step - loss: 0.0869 - accuracy: 0.9690\n",
            "5512/5512 [==============================] - 4s 783us/step\n"
          ],
          "name": "stdout"
        },
        {
          "output_type": "execute_result",
          "data": {
            "text/plain": [
              "[0.23443536100306256, 0.9272496104240417]"
            ]
          },
          "metadata": {
            "tags": []
          },
          "execution_count": 27
        }
      ]
    },
    {
      "cell_type": "markdown",
      "metadata": {
        "id": "mztP7wJoSRad",
        "colab_type": "text"
      },
      "source": [
        "We have seen that adding the skip connections for the ResNet-50 architecture has helped the model learn. So we can conclude that for deeper networks adding skip connections helps."
      ]
    }
  ]
}